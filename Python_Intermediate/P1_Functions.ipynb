{
 "cells": [
  {
   "cell_type": "code",
   "execution_count": 3,
   "metadata": {},
   "outputs": [
    {
     "name": "stdout",
     "output_type": "stream",
     "text": [
      "Hello, I am from fucntion!\n"
     ]
    }
   ],
   "source": [
    "\"\"\"\n",
    "Functions in Python: \n",
    "A function is a block of code which only runs when it is called.\n",
    "You can pass data into the function, known as parameters.\n",
    "A function can return data as a result.\n",
    "\"\"\"\n",
    "\n",
    "# Creating a function using \"def\" keyword:\n",
    "\n",
    "def my_function():                          # def function_name\n",
    "    print(\"Hello, I am from fucntion!\")     # block of code\n",
    "\n",
    "# Calling the function - use the function name followed by parenthesis: \n",
    "\n",
    "my_function()"
   ]
  },
  {
   "cell_type": "code",
   "execution_count": 3,
   "metadata": {},
   "outputs": [
    {
     "name": "stdout",
     "output_type": "stream",
     "text": [
      "Tanishq Harit\n",
      "Aanshi Harit\n",
      "Vaibhav Harit\n",
      "Tanya Harit\n"
     ]
    }
   ],
   "source": [
    "# Arguments - information can be passed into function as arguments.\n",
    "# Arguments are specified after the function name, inside the parenthesis. \n",
    "# Shortform - [args]\n",
    "\n",
    "def my_function(fname):         # fname is a parameter, is like a variable which in the scope of the function.\n",
    "    print(fname + \" Harit\")\n",
    "\n",
    "my_function(\"Tanishq\")\n",
    "my_function(\"Aanshi\")\n",
    "my_function(\"Vaibhav\")\n",
    "my_function(\"Tanya\")\n",
    "\n",
    "# You can add as many arguements as you want, just seprate them with a comma.\n",
    "\n",
    "# Parameters or Arguments?\n",
    "# A parameter is the variable listed inside the parentheses in the function definition.\n",
    "# An argument is the value that is sent to the function when it is called."
   ]
  },
  {
   "cell_type": "code",
   "execution_count": 25,
   "metadata": {},
   "outputs": [
    {
     "name": "stdout",
     "output_type": "stream",
     "text": [
      "Tanishq Harit\n"
     ]
    }
   ],
   "source": [
    "# Number of arguments: \n",
    "# If your function expects 2 arguments, you have to call the function with 2 arguments, not more, not less.\n",
    "\n",
    "def my_function_4(fname, lname):\n",
    "    print(fname + \" \" + lname)\n",
    "\n",
    "my_function_4(\"Tanishq\", \"Harit\")\n",
    "# my_function_4(\"Tanishq\", \"Harit\", \"Aanshi\")\n",
    "# TypeError: my_function_4() takes 2 positional arguments but 3 were given.\n",
    "# my_function_4(\"Tanishq\")\n",
    "# TypeError: my_function_4() missing 1 required positional argument: 'lname'"
   ]
  },
  {
   "cell_type": "code",
   "execution_count": 30,
   "metadata": {},
   "outputs": [
    {
     "name": "stdout",
     "output_type": "stream",
     "text": [
      "The youngest child is Aanshi\n"
     ]
    }
   ],
   "source": [
    "# Arbitrary Arguments\n",
    "# If you do not know how many arguments that will be passed into your function, \n",
    "# add a * before the parameter name in the function definition.\n",
    "# This way the function will receive a tuple of arguments, and can access the items accordingly:\n",
    "\n",
    "def my_function_5(*kids):\n",
    "    print(\"The youngest child is \" + kids[2])   # here, 2 is the index number.\n",
    "\n",
    "my_function_5(\"Vaibhav\", \"Tanishq\", \"Aanshi\")"
   ]
  },
  {
   "cell_type": "code",
   "execution_count": 31,
   "metadata": {},
   "outputs": [
    {
     "name": "stdout",
     "output_type": "stream",
     "text": [
      "The youngest child is Aanshi\n"
     ]
    }
   ],
   "source": [
    "# Keyword Arguments\n",
    "\n",
    "def my_function_6(child3, child1, child2):\n",
    "    print(\"The youngest child is \" + child3)\n",
    "\n",
    "my_function_6(child1 = \"Vaibhav\", child2 = \"Tanishq\", child3 = \"Aanshi\")"
   ]
  },
  {
   "cell_type": "code",
   "execution_count": 35,
   "metadata": {},
   "outputs": [
    {
     "name": "stdout",
     "output_type": "stream",
     "text": [
      "My last name is Harit\n"
     ]
    }
   ],
   "source": [
    "# Arbitary Keyword Arguments\n",
    "# If you do not know how many keyword arguments that will be passed into your function, \n",
    "# add two asterisk: ** before the parameter name in the function definition.\n",
    "# This way the function will receive a dictionary of arguments, and can access the items accordingly:\n",
    "\n",
    "def my_function_7(**kid):\n",
    "    print(\"My last name is \" + kid[\"lname\"])\n",
    "\n",
    "my_function_7(fname = \"Tanishq\", lname = \"Harit\")"
   ]
  },
  {
   "cell_type": "code",
   "execution_count": 42,
   "metadata": {},
   "outputs": [
    {
     "name": "stdout",
     "output_type": "stream",
     "text": [
      "My favourite country is China\n",
      "My favourite country is United States\n",
      "My favourite country is India\n",
      "My favourite country is Russia\n"
     ]
    }
   ],
   "source": [
    "# Default Parameter Value\n",
    "# If we call the function without argument, it uses the default value:\n",
    "\n",
    "def my_function_8(country = \"India\"):\n",
    "    print(\"My favourite country is \" + country)\n",
    "\n",
    "my_function_8(\"China\")\n",
    "my_function_8(\"United States\")\n",
    "my_function_8()\n",
    "my_function_8(\"Russia\")"
   ]
  },
  {
   "cell_type": "code",
   "execution_count": 44,
   "metadata": {},
   "outputs": [
    {
     "name": "stdout",
     "output_type": "stream",
     "text": [
      "apple\n",
      "banana\n",
      "cherry\n"
     ]
    }
   ],
   "source": [
    "# Passing list as an argument.\n",
    "# You can send any data types of argument to a function (string, number, list, dictionary etc.), \n",
    "# and it will be treated as the same data type inside the function.\n",
    "# E.g. if you send a List as an argument, it will still be a List when it reaches the function:\n",
    "\n",
    "def my_function_9(food):\n",
    "    for i in food:          # looping throgh list \"food\", i stands for each index of list.\n",
    "        print(i)\n",
    "\n",
    "fruits = [\"apple\", \"banana\", \"cherry\"]\n",
    "my_function_9(fruits)"
   ]
  },
  {
   "cell_type": "code",
   "execution_count": 33,
   "metadata": {},
   "outputs": [
    {
     "name": "stdout",
     "output_type": "stream",
     "text": [
      "3.14\n",
      "Supercell: Clash of Clans\n",
      "3.14\n",
      "Supercell: Clash Royale\n"
     ]
    }
   ],
   "source": [
    "# Scope of varibles in functions\n",
    "\n",
    "def my_function_2(game):\n",
    "    print(pi)                       # even pi is defined later and outside, it is still able find it.\n",
    "    print(\"Supercell: \" + game)\n",
    "    # print(gravity_value)          # this will throw an error, because this does not exist.\n",
    "\n",
    "my_function_2(\"Clash of Clans\")\n",
    "my_function_2(\"Clash Royale\")\n",
    "\n",
    "# functions also work like loops, see how pi is prninted twice, as two parameters are defined."
   ]
  },
  {
   "cell_type": "code",
   "execution_count": 5,
   "metadata": {},
   "outputs": [],
   "source": [
    "pi = 3.14   # this is outside the my_function_2"
   ]
  },
  {
   "cell_type": "code",
   "execution_count": 13,
   "metadata": {},
   "outputs": [
    {
     "name": "stdout",
     "output_type": "stream",
     "text": [
      "Stevens Tech: School of Engineering and Science\n",
      "Stevens Tech: School of Business\n"
     ]
    }
   ],
   "source": [
    "# Return keyword\n",
    "\n",
    "def multiply(x):\n",
    "    return x * 2\n",
    "\n",
    "multiply(5)        # return keyowrd replaces this with its value, here (x * 2)\n",
    "\n",
    "# Continue below"
   ]
  },
  {
   "cell_type": "code",
   "execution_count": 16,
   "metadata": {},
   "outputs": [
    {
     "name": "stdout",
     "output_type": "stream",
     "text": [
      "Stevens Tech: School of Engineering and Science\n",
      "Stevens Tech: School of Business\n",
      "Stevens Tech: School of Engineering and Science\n",
      "<class 'NoneType'>\n"
     ]
    }
   ],
   "source": [
    "# In above functions, where we are using print statement, suppose\n",
    "def my_function_3(school_name):\n",
    "    print(\"Stevens Tech: \" + school_name)\n",
    "\n",
    "my_function_3(\"School of Engineering and Science\")      # these become obselete after parameter is gone.\n",
    "my_function_3(\"School of Business\")\n",
    "\n",
    "# If we check type, they will return NONE.\n",
    "print(type(my_function_3(\"School of Engineering and Science\")))\n",
    "\n",
    "# But, in the above code block, where return statement is used, \n",
    "# these statements do not become obselete, they become what return statement returns."
   ]
  },
  {
   "cell_type": "code",
   "execution_count": 19,
   "metadata": {},
   "outputs": [
    {
     "name": "stdout",
     "output_type": "stream",
     "text": [
      "[1, 2, 3, 4]\n"
     ]
    }
   ],
   "source": [
    "# Function side effects - function affecting things outside its scope.\n",
    "\n",
    "def append_item_to_list(list):\n",
    "    list.append(4)\n",
    "\n",
    "a_list = [1,2,3]\n",
    "append_item_to_list(a_list)\n",
    "print(a_list)"
   ]
  },
  {
   "cell_type": "code",
   "execution_count": 45,
   "metadata": {},
   "outputs": [],
   "source": [
    "# Pass keyword - avoid getting an error if we want an empty function.\n",
    "\n",
    "def pass_function():\n",
    "    pass"
   ]
  }
 ],
 "metadata": {
  "kernelspec": {
   "display_name": "Python 3",
   "language": "python",
   "name": "python3"
  },
  "language_info": {
   "codemirror_mode": {
    "name": "ipython",
    "version": 3
   },
   "file_extension": ".py",
   "mimetype": "text/x-python",
   "name": "python",
   "nbconvert_exporter": "python",
   "pygments_lexer": "ipython3",
   "version": "3.12.0"
  }
 },
 "nbformat": 4,
 "nbformat_minor": 2
}
